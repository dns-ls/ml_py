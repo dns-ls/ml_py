{
 "cells": [
  {
   "cell_type": "code",
   "execution_count": 2,
   "id": "e2f32216",
   "metadata": {},
   "outputs": [],
   "source": [
    "import numpy as np"
   ]
  },
  {
   "cell_type": "code",
   "execution_count": null,
   "id": "78d4a840",
   "metadata": {},
   "outputs": [],
   "source": [
    "class perceptron():\n",
    "\tdef __init__(self, n_iters=1000, theta: int = 1, l_rate: float = 1):\t\t\n",
    "\t\tself.n_iters = n_iters\n",
    "\t\tself.omega = None\n",
    "\t\tself.theta = None\n",
    "\t\tself.l_rate = None\n",
    "\n",
    "\tdef fit(self, X, y, l_rate = 1):\n",
    "\t\terror = 1\n",
    "\t\tepoch = 0\n",
    "\t\tn_len, n_features = X.shape\n",
    "\n",
    "\t\tif self.omega is None:\n",
    "\t\t\tself.omega = np.zeros(n_features)\n",
    "\t\tif self.theta == None:\n",
    "\t\t\tself.theta = 0\n",
    "\t\tif self.l_rate == None:\n",
    "\t\t\tself.l_rate = 1\n",
    "\n",
    "\t\twhile error > 0:\n",
    "\t\t\tepoch += 1\n",
    "\t\t\terror = 0\n",
    "\t\t\tprint(\"epoch:\", epoch)\n",
    "\t\t\tfor i in range(n_len):\n",
    "\t\t\t\tprint(\"input:\", X[i], y[i])\n",
    "\t\t\t\tif np.dot(self.omega, X[i]) >= self.theta:\n",
    "\t\t\t\t\tpred = 1\n",
    "\t\t\t\telse:\n",
    "\t\t\t\t\tpred = 0\n",
    "\t\t\t\tif pred != y[i]:\n",
    "\t\t\t\t\tself.theta -= self.l_rate * (y[i] - pred)\n",
    "\t\t\t\t\tself.omega += self.l_rate * (y[i] - pred) * X[i]\n",
    "\t\t\t\t\terror += np.sum(np.abs(y - pred))\n",
    "\t\t\t\tprint(\"omega:\", self.omega, \" theta:\", self.theta, \" error:\", error)\n",
    "\t\tprint(\"Result:\\n\", \"omega:\", self.omega, \"Theta:\", self.theta)\n",
    "\t\n",
    "\tdef predict(self, X):\n",
    "\t\t# predict schiebe ich auf, da ein perzeptron praktisch auswendig lernt\n",
    "\t\t# und somit nicht wirklich predicten kann\n",
    "\t\t...\n",
    "\n",
    "\tdef output(self, x):\n",
    "\t\treturn np.where(x>=0, 1, 0)\n",
    "\t"
   ]
  },
  {
   "cell_type": "code",
   "execution_count": 33,
   "id": "b40cd995",
   "metadata": {},
   "outputs": [],
   "source": [
    "# logical negation data set\n",
    "neg_X = np.array([[0], [1]])\n",
    "neg_y = np.array([[1], [0]])\n",
    "\n",
    "# logical \"and\" dataset\n",
    "and_X = np.array([[0, 0], [1, 0], [0, 1], [1, 1]])\n",
    "and_y = np.array([[0], [0], [0], [1]])\n",
    "\n",
    "# locical \"or\" dataset\n",
    "or_X = np.array([[0, 0], [1, 0], [0, 1], [1, 1]])\n",
    "or_y = np.array([[0], [1], [1], [1]])"
   ]
  },
  {
   "cell_type": "code",
   "execution_count": 34,
   "id": "059dea41",
   "metadata": {},
   "outputs": [],
   "source": [
    "neg_perceptron = perceptron()\n",
    "and_perceptron = perceptron()\n",
    "or_perceptron = perceptron()"
   ]
  },
  {
   "cell_type": "code",
   "execution_count": 35,
   "id": "b115229a",
   "metadata": {},
   "outputs": [
    {
     "name": "stdout",
     "output_type": "stream",
     "text": [
      "epoch: 1\n",
      "input: [0] [1]\n",
      "omega: [0.]  theta: 0  error: 0\n",
      "input: [1] [0]\n",
      "omega: [-1.]  theta: [1]  error: 1\n",
      "epoch: 2\n",
      "input: [0] [1]\n",
      "omega: [-1.]  theta: [0]  error: 1\n",
      "input: [1] [0]\n",
      "omega: [-1.]  theta: [0]  error: 1\n",
      "epoch: 3\n",
      "input: [0] [1]\n",
      "omega: [-1.]  theta: [0]  error: 0\n",
      "input: [1] [0]\n",
      "omega: [-1.]  theta: [0]  error: 0\n",
      "Result:\n",
      " omega: [-1.] Theta: [0]\n"
     ]
    }
   ],
   "source": [
    "neg_perceptron.fit(neg_X, neg_y)"
   ]
  },
  {
   "cell_type": "code",
   "execution_count": 36,
   "id": "06e1df38",
   "metadata": {},
   "outputs": [
    {
     "name": "stdout",
     "output_type": "stream",
     "text": [
      "epoch: 1\n",
      "input: [0 0] [0]\n",
      "omega: [0. 0.]  theta: [1]  error: 3\n",
      "input: [1 0] [0]\n",
      "omega: [0. 0.]  theta: [1]  error: 3\n",
      "input: [0 1] [0]\n",
      "omega: [0. 0.]  theta: [1]  error: 3\n",
      "input: [1 1] [1]\n",
      "omega: [1. 1.]  theta: [0]  error: 4\n",
      "epoch: 2\n",
      "input: [0 0] [0]\n",
      "omega: [1. 1.]  theta: [1]  error: 3\n",
      "input: [1 0] [0]\n",
      "omega: [0. 1.]  theta: [2]  error: 6\n",
      "input: [0 1] [0]\n",
      "omega: [0. 1.]  theta: [2]  error: 6\n",
      "input: [1 1] [1]\n",
      "omega: [1. 2.]  theta: [1]  error: 7\n",
      "epoch: 3\n",
      "input: [0 0] [0]\n",
      "omega: [1. 2.]  theta: [1]  error: 0\n",
      "input: [1 0] [0]\n",
      "omega: [0. 2.]  theta: [2]  error: 3\n",
      "input: [0 1] [0]\n",
      "omega: [0. 1.]  theta: [3]  error: 6\n",
      "input: [1 1] [1]\n",
      "omega: [1. 2.]  theta: [2]  error: 7\n",
      "epoch: 4\n",
      "input: [0 0] [0]\n",
      "omega: [1. 2.]  theta: [2]  error: 0\n",
      "input: [1 0] [0]\n",
      "omega: [1. 2.]  theta: [2]  error: 0\n",
      "input: [0 1] [0]\n",
      "omega: [1. 1.]  theta: [3]  error: 3\n",
      "input: [1 1] [1]\n",
      "omega: [2. 2.]  theta: [2]  error: 4\n",
      "epoch: 5\n",
      "input: [0 0] [0]\n",
      "omega: [2. 2.]  theta: [2]  error: 0\n",
      "input: [1 0] [0]\n",
      "omega: [1. 2.]  theta: [3]  error: 3\n",
      "input: [0 1] [0]\n",
      "omega: [1. 2.]  theta: [3]  error: 3\n",
      "input: [1 1] [1]\n",
      "omega: [1. 2.]  theta: [3]  error: 3\n",
      "epoch: 6\n",
      "input: [0 0] [0]\n",
      "omega: [1. 2.]  theta: [3]  error: 0\n",
      "input: [1 0] [0]\n",
      "omega: [1. 2.]  theta: [3]  error: 0\n",
      "input: [0 1] [0]\n",
      "omega: [1. 2.]  theta: [3]  error: 0\n",
      "input: [1 1] [1]\n",
      "omega: [1. 2.]  theta: [3]  error: 0\n",
      "Result:\n",
      " omega: [1. 2.] Theta: [3]\n"
     ]
    }
   ],
   "source": [
    "and_perceptron.fit(and_X, and_y)"
   ]
  },
  {
   "cell_type": "code",
   "execution_count": 27,
   "id": "7eecdf3b",
   "metadata": {},
   "outputs": [
    {
     "name": "stdout",
     "output_type": "stream",
     "text": [
      "[0 0] [0]\n",
      "[1 0] [1]\n",
      "[0 1] [1]\n",
      "[1 1] [1]\n",
      "[0 0] [0]\n",
      "[1 0] [1]\n",
      "[0 1] [1]\n",
      "[1 1] [1]\n",
      "[0 0] [0]\n",
      "[1 0] [1]\n",
      "[0 1] [1]\n",
      "[1 1] [1]\n",
      "[0 0] [0]\n",
      "[1 0] [1]\n",
      "[0 1] [1]\n",
      "[1 1] [1]\n",
      "Result:\n",
      " omega: [1. 1.] Theta: [1]\n"
     ]
    }
   ],
   "source": [
    "or_perceptron.fit(or_X, or_y)"
   ]
  }
 ],
 "metadata": {
  "kernelspec": {
   "display_name": ".venv",
   "language": "python",
   "name": "python3"
  },
  "language_info": {
   "codemirror_mode": {
    "name": "ipython",
    "version": 3
   },
   "file_extension": ".py",
   "mimetype": "text/x-python",
   "name": "python",
   "nbconvert_exporter": "python",
   "pygments_lexer": "ipython3",
   "version": "3.12.3"
  }
 },
 "nbformat": 4,
 "nbformat_minor": 5
}
