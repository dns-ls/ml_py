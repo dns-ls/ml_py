{
 "cells": [
  {
   "cell_type": "code",
   "execution_count": 1,
   "id": "e2f32216",
   "metadata": {},
   "outputs": [],
   "source": [
    "import numpy as np\n",
    "import pandas as pd\n",
    "import perceptron as pc"
   ]
  },
  {
   "cell_type": "code",
   "execution_count": 2,
   "id": "b40cd995",
   "metadata": {},
   "outputs": [],
   "source": [
    "# logical negation data set\n",
    "neg_X = np.array([[0], [1]])\n",
    "neg_y = np.array([[1], [0]])\n",
    "\n",
    "# logical \"and\" dataset\n",
    "and_X = np.array([[0, 0], [1, 0], [0, 1], [1, 1]])\n",
    "and_y = np.array([[0], [0], [0], [1]])\n",
    "\n",
    "# locical \"or\" dataset\n",
    "or_X = np.array([[0, 0], [1, 0], [0, 1], [1, 1]])\n",
    "or_y = np.array([[0], [1], [1], [1]])"
   ]
  },
  {
   "cell_type": "code",
   "execution_count": 3,
   "id": "059dea41",
   "metadata": {},
   "outputs": [],
   "source": [
    "neg_perceptron = pc.perceptron(l_rate = 5)\n",
    "and_perceptron = pc.perceptron(theta = 7)\n",
    "or_perceptron = pc.perceptron()"
   ]
  },
  {
   "cell_type": "code",
   "execution_count": 4,
   "id": "b115229a",
   "metadata": {},
   "outputs": [
    {
     "name": "stdout",
     "output_type": "stream",
     "text": [
      "Result:\n",
      " omega: [-5.] Theta: [-4]\n"
     ]
    }
   ],
   "source": [
    "neg_perceptron.fit(neg_X, neg_y)"
   ]
  },
  {
   "cell_type": "code",
   "execution_count": 5,
   "id": "06e1df38",
   "metadata": {},
   "outputs": [
    {
     "name": "stdout",
     "output_type": "stream",
     "text": [
      "Result:\n",
      " omega: [3. 3.] Theta: [4]\n"
     ]
    }
   ],
   "source": [
    "and_perceptron.fit(and_X, and_y)"
   ]
  },
  {
   "cell_type": "code",
   "execution_count": 6,
   "id": "ae67ac84",
   "metadata": {},
   "outputs": [
    {
     "data": {
      "text/plain": [
       "[0, 0, 0, 1]"
      ]
     },
     "execution_count": 6,
     "metadata": {},
     "output_type": "execute_result"
    }
   ],
   "source": [
    "and_perceptron.predict(and_X)"
   ]
  },
  {
   "cell_type": "code",
   "execution_count": 7,
   "id": "7eecdf3b",
   "metadata": {},
   "outputs": [
    {
     "name": "stdout",
     "output_type": "stream",
     "text": [
      "Result:\n",
      " omega: [1. 1.] Theta: [1]\n"
     ]
    }
   ],
   "source": [
    "or_perceptron.fit(or_X, or_y)"
   ]
  },
  {
   "cell_type": "markdown",
   "id": "98912548",
   "metadata": {},
   "source": [
    "wird obv nicht funktionieren, da nicht linear separierbar; ich habe daran nicht gedacht und gut eine stunde dran gearbeitet"
   ]
  },
  {
   "cell_type": "code",
   "execution_count": 8,
   "id": "4d4c3aa2",
   "metadata": {},
   "outputs": [],
   "source": [
    "logic_gate_X = np.array([[int(x) for x in format(i, '04b')] for i in range(16)])\n",
    "np.random.shuffle(logic_gate_X)\n",
    "logic_gate_y = (logic_gate_X[:, 0] & logic_gate_X[:, 1]) | (logic_gate_X[:, 2] & logic_gate_X[:, 3])"
   ]
  },
  {
   "cell_type": "code",
   "execution_count": 13,
   "id": "21c2ea24",
   "metadata": {},
   "outputs": [],
   "source": [
    "e_bit_perceptron = pc.perceptron(n_iters=10000)"
   ]
  },
  {
   "cell_type": "code",
   "execution_count": 14,
   "id": "895a16cd",
   "metadata": {},
   "outputs": [
    {
     "name": "stdout",
     "output_type": "stream",
     "text": [
      "Result:\n",
      " omega: [2. 2. 4. 1.] Theta: 7\n"
     ]
    }
   ],
   "source": [
    "e_bit_perceptron.fit(logic_gate_X, logic_gate_y)"
   ]
  }
 ],
 "metadata": {
  "kernelspec": {
   "display_name": ".venv",
   "language": "python",
   "name": "python3"
  },
  "language_info": {
   "codemirror_mode": {
    "name": "ipython",
    "version": 3
   },
   "file_extension": ".py",
   "mimetype": "text/x-python",
   "name": "python",
   "nbconvert_exporter": "python",
   "pygments_lexer": "ipython3",
   "version": "3.12.3"
  }
 },
 "nbformat": 4,
 "nbformat_minor": 5
}
