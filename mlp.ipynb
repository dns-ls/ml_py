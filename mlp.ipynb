{
 "cells": [
  {
   "cell_type": "code",
   "execution_count": 2,
   "id": "d79e5f73",
   "metadata": {},
   "outputs": [],
   "source": [
    "import perceptron as pc\n",
    "import numpy as np"
   ]
  },
  {
   "cell_type": "code",
   "execution_count": 3,
   "id": "88509bcf",
   "metadata": {},
   "outputs": [],
   "source": [
    "xor_X = np.array([[0,0],[0,1],[1,0],[1,1]])\n",
    "xor_y = np.array([0,1,1,0])"
   ]
  },
  {
   "cell_type": "code",
   "execution_count": null,
   "id": "834158af",
   "metadata": {},
   "outputs": [],
   "source": [
    "xor = []"
   ]
  }
 ],
 "metadata": {
  "kernelspec": {
   "display_name": ".venv",
   "language": "python",
   "name": "python3"
  },
  "language_info": {
   "codemirror_mode": {
    "name": "ipython",
    "version": 3
   },
   "file_extension": ".py",
   "mimetype": "text/x-python",
   "name": "python",
   "nbconvert_exporter": "python",
   "pygments_lexer": "ipython3",
   "version": "3.12.3"
  }
 },
 "nbformat": 4,
 "nbformat_minor": 5
}
